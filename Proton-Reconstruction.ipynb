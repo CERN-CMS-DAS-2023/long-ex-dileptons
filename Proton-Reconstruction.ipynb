{
 "cells": [
  {
   "cell_type": "markdown",
   "metadata": {},
   "source": [
    "# Tagged forward protons\n",
    "\n",
    "In central (semi)exclusive events, scattered protons might remain intact and can be detected by the Precision Proton Spectrometer (PPS). The interacting photons and the proton 4-momentum is given by:\n",
    "\n",
    "\\begin{equation}\n",
    "\\begin{split}\n",
    "P^\\text{proton}_{initial} &= P^\\text{proton}_{final} + P^\\text{photon} \\\\\n",
    "P^\\text{photon} &= P^\\text{proton}_{initial} - P^\\text{proton}_{final} = P_\\text{BEAM} - P^\\text{forward-proton}\n",
    "\\end{split}\\label{eq:eq0}\n",
    "\\end{equation}\n",
    "\n",
    "We can define proton longitudinal momentum loss by:\n",
    "\\begin{equation}\n",
    "\\begin{split}\n",
    "\\xi &= \\left| \\left( P^\\text{proton}_{initial} - P^\\text{proton}_{final} \\right) / P^\\text{proton}_{initial} \\right| = 1-\\Delta p/E_\\text{beam}\n",
    "\\end{split}\\label{eq:eqxi}\n",
    "\\end{equation}\n",
    "\n",
    "Then four-momentum of incoming protons and outgoing proton (as well as for the interacting photon) can be expressed as (note we neglect protons mass since $E_\\text{beam}>>m_p$):\n",
    "\n",
    "\\begin{equation}\n",
    "\\begin{split}\n",
    "P^\\text{proton}_{initial} &= \\left( E_\\text{beam}, 0, 0, \\pm E_\\text{beam} \\right) \\\\\n",
    "P^\\text{proton}_{final} &= \\left( (1-\\xi)E_\\text{beam}, E_\\text{beam}\\cdot\\theta^*_{X}, E_\\text{beam}\\cdot\\theta^*_{Y}, \\pm (1-\\xi)E_\\text{beam} \\right) \\\\\n",
    "P^\\text{photon} &= \\left( \\xi E_\\text{beam}, -E_\\text{beam}\\cdot\\theta^*_{X}, -E_\\text{beam}\\cdot\\theta^*_{Y}, \\pm \\xi E_\\text{beam} \\right) \n",
    "\\end{split}\\label{eq:eq4momentum}\n",
    "\\end{equation}\n",
    "\n",
    "Where $\\left(\\xi, \\theta^*_{X}, \\theta^*_{Y}\\right)$ are variables measured by the PPS.\n",
    "\n",
    "The two proton, or two photon (and in case of di-lepton final state -- the two lepton) invariant mass can be calculated from (remember $P_\\text{proton1+proton2}=-P_\\text{photon1+photon2}=-P_\\text{lepton1+lepton2}$):\n",
    "\n",
    "\\begin{equation}\n",
    "\\begin{split}\n",
    "m^2_{pp} &= \\left( P^\\text{photon1} + P^\\text{photon2} \\right)^2 \\\\\n",
    " &= | \\left( (\\xi_1 + \\xi_2)E_{beam},0 ,0 ,(\\xi_1 - \\xi_2)E_{beam} \\right) |^2 \\\\\n",
    " &= (\\xi_1 + \\xi_2)^2 E^2_{beam} - (\\xi_1 - \\xi_2)^2 E^2_{beam} \\\\\n",
    " &= 4\\xi_1\\xi_2E^2_{beam} \\\\\n",
    " &= s\\xi_1\\xi_2\n",
    "\\end{split}\\label{eq:invmass}\n",
    "\\end{equation}\n",
    "\n",
    "\n",
    "Where $\\sqrt{s} = \\left(2E_\\text{beam}\\right)$ is the center of mass energy, then we can express the di-lepton invarint mass and rapidity as:\n",
    "\n",
    "\\begin{equation}\n",
    "\\begin{split}\n",
    "m_{\\ell\\ell} &= \\sqrt{s\\xi_1\\xi_2}\\\\\n",
    "Y_{\\ell\\ell} &= \\frac{1}{2}\\log(\\xi_1/\\xi_2),\n",
    "\\end{split}\\label{eq:eq1}\n",
    "\\end{equation}\n",
    "\n",
    "\n",
    "In case of single dissociation (when only one proton remains intact), we can reconstruct proton momentum loss from the kinematics measured in the central detector: di-lepton mass $m_{\\ell\\ell}$ and pseudo-rapidity of the leptons $\\eta_{\\ell\\pm}$, using the following formula:\n",
    "\n",
    "\\begin{equation}\n",
    "\\xi_\\pm = \\frac{1}{\\sqrt{s}}[p_T(\\ell+)e^{\\pm\\eta(\\ell+)} + p_T(\\ell-)e^{\\pm\\eta(\\ell-)}] \n",
    "\\label{eq:eq2}\n",
    "\\end{equation}"
   ]
  },
  {
   "cell_type": "code",
   "execution_count": null,
   "metadata": {},
   "outputs": [],
   "source": [
    "#start with standard python imports\n",
    "#!pip install --user mplhep #enable this line if the import of mplhep fails\n",
    "import numpy as np\n",
    "import pandas as pd\n",
    "import h5py\n",
    "import matplotlib.pyplot as plt\n",
    "import mplhep as hep\n",
    "from matplotlib.colors import LogNorm"
   ]
  },
  {
   "cell_type": "code",
   "execution_count": null,
   "metadata": {},
   "outputs": [],
   "source": [
    "#to make the plots in CMS style execute this line\n",
    "plt.style.use([hep.style.ROOT, hep.style.firamath])\n",
    "plt.style.use(hep.style.CMS)"
   ]
  },
  {
   "cell_type": "code",
   "execution_count": null,
   "metadata": {},
   "outputs": [],
   "source": [
    "#Execute this line if running on SWAN, otherwise update the path to the data files:\n",
    "PATH='/eos/user/c/cmsdas/long-exercises/pps-exclusive-dilepton/h5py'\n",
    "#PATH='output'"
   ]
  },
  {
   "cell_type": "markdown",
   "metadata": {},
   "source": [
    "### Loading the data (signal and background)\n",
    "\n",
    "Similarlt to [Event-selection-optimization.ipynb](https://nbviewer.jupyter.org/github/cmsdas/pps-long-exercise/blob/master/Event-selection-optimization.ipynb) we will use `h5py` files of the simulated signal events:"
   ]
  },
  {
   "cell_type": "code",
   "execution_count": null,
   "metadata": {},
   "outputs": [],
   "source": [
    "def GetData(filename):\n",
    "    \n",
    "    \"\"\" opens a summary file and converts it to a pandas dataframe \"\"\"\n",
    "    \n",
    "    with h5py.File(filename, 'r') as f:\n",
    "        dset = f['protons']\n",
    "        dset_columns = f['columns']\n",
    "        columns = list( dset_columns )\n",
    "        columns_str = [ item.decode(\"utf-8\") for item in columns ]\n",
    "        return pd.DataFrame( dset, columns=columns_str )\n",
    "    \n",
    "    return pd.DataFrame()"
   ]
  },
  {
   "cell_type": "code",
   "execution_count": null,
   "metadata": {},
   "outputs": [],
   "source": [
    "#Select stream (Electrons of Muons)\n",
    "stream='Mu'  # chose 'El' or 'Mu'"
   ]
  },
  {
   "cell_type": "code",
   "execution_count": null,
   "metadata": {},
   "outputs": [],
   "source": [
    "#load the signal samples into the dataframes (takes some time)\n",
    "df_signal = GetData(PATH+'/output-GGTo{}_Elastic_v0_signal_xa120_era2017_preTS2.h5'.format('EE' if stream=='El' else 'MuMu'))"
   ]
  },
  {
   "cell_type": "code",
   "execution_count": null,
   "metadata": {},
   "outputs": [],
   "source": [
    "#Load the data samples into the dataframes (takes some time)\n",
    "df_data={}\n",
    "eras=['B']\n",
    "#eras=['B','C','D','E','F'] # uncomment to process all data\n",
    "for x in eras:\n",
    "    df_data[x] = GetData(PATH+'/output-UL2017{}-{}.h5'.format(x,stream))\n",
    "    df_data[x]['era']=x\n",
    "    print('output-UL2017{}-{} shape = {}'.format(x,stream,df_data[x].shape))\n",
    "\n",
    "#combine all into a single one\n",
    "df_data=pd.concat([df_data[x] for x in eras])"
   ]
  },
  {
   "cell_type": "markdown",
   "metadata": {},
   "source": [
    "### Exploring the data files\n",
    "\n",
    "Plot the content of the files:"
   ]
  },
  {
   "cell_type": "code",
   "execution_count": null,
   "metadata": {},
   "outputs": [],
   "source": [
    "def PrintInfoFromDF(df):\n",
    "    print('Print all branches:')\n",
    "    print(df.keys())\n",
    "    print('Size of the data is ',df.shape)"
   ]
  },
  {
   "cell_type": "code",
   "execution_count": null,
   "metadata": {
    "scrolled": false
   },
   "outputs": [],
   "source": [
    "PrintInfoFromDF(df_signal)\n",
    "PrintInfoFromDF(df_data)"
   ]
  },
  {
   "cell_type": "markdown",
   "metadata": {},
   "source": [
    "## Tagged protons\n",
    "\n",
    "In central exclusive events, protons remain intact and can be detected in the PPS. In addition to the forward protons from the exclusive production, as discussed in [intro video](https://videos.cern.ch/record/2730189/embed) we can also have protons originating from proton-proton diffractive collision (typically single diffractive events). In high pileup conditions, the main background will be the combinatorial background - inclusive production of lepton pairs + two forward protons from pileup interactions. \n",
    "\n",
    "As discussed in the [short exercise on Tagged protons](https://twiki.cern.ch/twiki/bin/view/CMS/SWGuideCMSDataAnalysisSchoolCERN2020TaggedProtonsShortExercise), PPS detectors are sensitive in range of $\\xi\\in\\left(0.03,0.15\\right)$. In this exercise, we will study how we can improve our sensitivity to central (semi)exclusive events based on PPS information.\n",
    "\n",
    "### Read the forward protons data\n",
    "\n",
    "The forward detectors are located ~200m from the CMS detector on both sides. The positive, negative direction of the beam ($\\hat{z}-axis$) is related to different arm number and detector index. The full numbering scheme is shown below:\n",
    "\n",
    "<img src=\"img/rp_numbering_scheme_PPSadapted.png\" alt=\"PPS numbers\" style=\"width: 700px;\"/>\n",
    "\n",
    "Therefore if we wish to select tagged protons in a positive direction, we will use:\n",
    "```python\n",
    "msk1 = mask & ( dataframe[\"MultiRP\"] == 1) & ( dataframe[\"Arm\"] == 0 )\n",
    "```\n",
    "while for the negative direction protons, we will select:\n",
    "```python\n",
    "msk2 = mask & ( dataframe[\"MultiRP\"] == 1) & ( dataframe[\"Arm\"] == 1 )\n",
    "```\n",
    "\n",
    "NOTE: in 2017 configuration, proton reconstruction using the `MultiRP` method can only have 0 or 1 reconstructed protons. Events with $\\geq2$ tagged protons will be counted as 0.  "
   ]
  },
  {
   "cell_type": "markdown",
   "metadata": {},
   "source": [
    "<b>TASK A</b>\n",
    "\n",
    "Calculate number of events with 0, 1 and 2 tagged protons in the data\n",
    "\n",
    "HINT: Use the pandas [groupby](https://pandas.pydata.org/pandas-docs/stable/reference/api/pandas.DataFrame.groupby.html) command to count events with tagged protons\n",
    "```python\n",
    "Nprotons = [gr['MultiRP'].sum() for name, gr in df.groupby('EventNum')]\n",
    "```"
   ]
  },
  {
   "cell_type": "code",
   "execution_count": null,
   "metadata": {},
   "outputs": [],
   "source": [
    "#compute number of events with tagged protons in the signal sample\n",
    "Nprotons = [gr['MultiRP'].sum() for name, gr in df_signal.groupby('EventNum')]\n",
    "print('0 proton events = '+str(sum([x==0 for x in Nprotons]))+\n",
    "      ', 1 proton events = '+str(sum([x==1 for x in Nprotons]))+\n",
    "      ', 2 proton events = '+str(sum([x==2 for x in Nprotons])))\n"
   ]
  },
  {
   "cell_type": "code",
   "execution_count": null,
   "metadata": {},
   "outputs": [],
   "source": [
    "#compute number of events with tagged protons in the data (df_data):\n",
    "#######################\n",
    "#   ADD YOUR CODE HERE \n",
    "#######################"
   ]
  },
  {
   "cell_type": "markdown",
   "metadata": {},
   "source": [
    "In the next block we will inspect this correlation"
   ]
  },
  {
   "cell_type": "markdown",
   "metadata": {},
   "source": [
    "<b>TASK B</b>\n",
    "\n",
    "Write a function that will produce a 2D scatter plot of measured $\\xi$ in the forward detector and the reconstructed $\\xi(\\ell\\ell)$ using Eq. \\ref{eq:eq2}.\n",
    "\n",
    "\n",
    "HINT: Use the block below to add a new column to the dataframe with reconstructed $\\xi$ named `recXi_pos` and `recXi_neg`\n",
    "```python\n",
    "df_signal['recXi_pos'] = USE FORMULA (2) TO COMPUTE POSSITIVE XIs\n",
    "df_signal['recXi_neg'] = USE FORMULA (2) TO COMPUTE NEGATIVE XIs\n",
    "```\n"
   ]
  },
  {
   "cell_type": "code",
   "execution_count": null,
   "metadata": {},
   "outputs": [],
   "source": [
    "def ComputeXi(dataframe):\n",
    "    \n",
    "    \"\"\" computes the proton csi based on the central system kinematics\"\"\"\n",
    "\n",
    "    sqrts=13000.\n",
    "    dataframe['recXi_pos'] = 1  # USE FORMULA (2)\n",
    "    dataframe['recXi_neg'] = 1  # USE FORMULA (2)\n",
    "     \n",
    "    return dataframe\n",
    "\n",
    "#if you are stuck uncomment the following line to load the solution\n",
    "# %load ./snippets/DataInspectionTask2.py"
   ]
  },
  {
   "cell_type": "markdown",
   "metadata": {},
   "source": [
    "The code below `Plot2DScatter(dataframe)` will plot 2D scatter plot between reconstructed $\\xi$ from the two leptons and $\\xi$ measured by the forward detectors:"
   ]
  },
  {
   "cell_type": "code",
   "execution_count": null,
   "metadata": {},
   "outputs": [],
   "source": [
    "def Plot2DScatter(dataframe, mask = [], proton_selection = \"MultiRP\"):\n",
    "\n",
    "    \"\"\"Shows the corelation between the xi reconstucted from the PPS system and from the central dilepton system\"\"\"\n",
    "    \n",
    "    if not mask.empty and len(mask) != dataframe.shape[0]:\n",
    "        print('Error: bad mask, check if the mask corresponds to the dataframe')\n",
    "        return\n",
    "    \n",
    "    if proton_selection == \"SingleRP\":\n",
    "        # Single-RP in pixel stations\n",
    "        msk1 = mask & ( dataframe[\"MultiRP\"] == 0) & ( dataframe[\"RPId1\"] == 23 )\n",
    "        msk2 = mask & ( dataframe[\"MultiRP\"] == 0) & ( dataframe[\"RPId1\"] == 123 )\n",
    "    elif proton_selection == \"MultiRP\":\n",
    "        # Multi-RP\n",
    "        msk1 = mask & ( dataframe[\"MultiRP\"] == 1 ) & ( dataframe[\"Arm\"] == 0 )\n",
    "        msk2 = mask & ( dataframe[\"MultiRP\"] == 1 ) & ( dataframe[\"Arm\"] == 1 )\n",
    " \n",
    "    print ( len(dataframe[ \"Xi\" ][ msk1 ]), len(dataframe[ \"Xi\" ][ msk2 ]) )\n",
    "\n",
    "    fig, axes = plt.subplots( 2, 2, figsize=(20,20) )\n",
    "    axes[0,0].plot( dataframe[ \"Xi\" ][ msk1 ], dataframe[ \"recXi_pos\" ][ msk1 ], 'ko' )\n",
    "    axes[0,1].plot( dataframe[ \"Xi\" ][ msk2 ], dataframe[ \"recXi_neg\" ][ msk2 ], 'ko' )\n",
    "    _,_,_, im = axes[1,0].hist2d( dataframe[ \"Xi\" ][ msk1 ], dataframe[ \"recXi_pos\" ][ msk1 ], bins=(50,50), norm=LogNorm(), cmap='viridis' )\n",
    "    fig.colorbar(im, ax=axes[1,0])\n",
    "    _,_,_, im = axes[1,1].hist2d( dataframe[ \"Xi\" ][ msk2 ], dataframe[ \"recXi_neg\" ][ msk2 ], bins=(50,50), norm=LogNorm(), cmap='viridis' )\n",
    "    fig.colorbar(im, ax=axes[1,1])\n",
    "\n",
    "    for i in range(2):\n",
    "        for j in range(2):\n",
    "            #aux lines\n",
    "            axes[i,j].plot( (0.,0.15), (0.,0.15), 'k--', linewidth=1 )\n",
    "            axes[i,j].plot( (0.,0.15), (0.,0.90*0.15), 'k:', linewidth=1 )\n",
    "            axes[i,j].plot( (0.,0.15), (0.,1.10*0.15), 'k:', linewidth=1 )\n",
    "            axes[i,j].set_xlim(0.,0.15)\n",
    "            axes[i,j].set_ylim(0.,0.15)\n",
    "            sgn='+' if j==0 else '-'\n",
    "            axes[i,j].set_xlabel(r'$\\xi_{%s}$ (PPS)'%(sgn))\n",
    "            axes[i,j].set_ylabel(r'$\\xi_{%s}$ (dileptons)'%(sgn))"
   ]
  },
  {
   "cell_type": "markdown",
   "metadata": {},
   "source": [
    "### Correlation plots - signal:\n",
    "\n",
    "Check your results with ploting correlation plots for the signal (exclusive) events:"
   ]
  },
  {
   "cell_type": "code",
   "execution_count": null,
   "metadata": {},
   "outputs": [],
   "source": [
    "#before the start, lets mask events with high invariant mass, with two leptons produced back to back exclusivelly \n",
    "msk_excl = ( df_signal[\"InvMass\"] >= 110. ) & ( df_signal[\"Acopl\"] <= 0.003 ) & ( df_signal[\"ExtraPfCands_v2\"] <= 3 )\n",
    "\n",
    "#in addiitonl we will focus only on MultiRP reconstruction\n",
    "proton_selection = \"MultiRP\" # \"SingleRP\" or \"MultiRP\"\n",
    "\n",
    "#compute xi\n",
    "ComputeXi(df_signal)\n",
    "\n",
    "#plot correlations:\n",
    "Plot2DScatter(df_signal, mask=msk_excl, proton_selection=proton_selection)"
   ]
  },
  {
   "cell_type": "markdown",
   "metadata": {},
   "source": [
    "We can also plot the difference betweeen recontructed and measured $\\xi$ values in 1D plot. It is easier to mask only"
   ]
  },
  {
   "cell_type": "code",
   "execution_count": null,
   "metadata": {},
   "outputs": [],
   "source": [
    "# add new variables to dataframes for possitivle and negative xi's :\n",
    "mask_pos = msk_excl & ( df_signal[\"MultiRP\"] == 1 ) & ( df_signal[\"Arm\"] == 0 )\n",
    "mask_neg = msk_excl & ( df_signal[\"MultiRP\"] == 1 ) & ( df_signal[\"Arm\"] == 1 )\n",
    "\n",
    "df_signal['delxi_pos'] = (1 - df_signal[ \"Xi\" ] / df_signal[ \"recXi_pos\" ])\n",
    "df_signal['delxi_neg'] = (1 - df_signal[ \"Xi\" ] / df_signal[ \"recXi_neg\" ])"
   ]
  },
  {
   "cell_type": "code",
   "execution_count": null,
   "metadata": {},
   "outputs": [],
   "source": [
    "#use plotting function form Event-selection-optimization.ipynb\n",
    "def PlotFromDF(variable, xmin, xmax, nbins, dataframes, _labels, ax, log=False):\n",
    "    bins = np.linspace(xmin,xmax,nbins)\n",
    "    data=[]; labels=[]\n",
    "    for df, label in zip(dataframes, _labels):\n",
    "        h, _ = np.histogram(df[variable], bins,density=True)\n",
    "        data.append(h)\n",
    "        labels.append(label)\n",
    "    hep.histplot(data, bins, ax=ax, label=labels)\n",
    "    hep.cms.label(llabel=\"Preliminary\", rlabel=\"CMSvDAS 2020\", ax=ax)\n",
    "    ax.legend(); \n",
    "    ax.set(xlabel=variable, ylabel='p.d.f.')\n",
    "    if log: plt.yscale(\"log\")\n",
    "    plt.savefig(variable+'.png')  "
   ]
  },
  {
   "cell_type": "code",
   "execution_count": null,
   "metadata": {},
   "outputs": [],
   "source": [
    "fig, axes = plt.subplots( 1, 2, figsize=(20,10) )\n",
    "PlotFromDF('delxi_pos',-1,1,100,[df_signal[ mask_pos ]],['exclusive di-$\\ell$'],axes[0], log=False)\n",
    "PlotFromDF('delxi_neg',-1,1,100,[df_signal[ mask_neg ]],['exclusive di-$\\ell$'],axes[1], log=False)"
   ]
  },
  {
   "cell_type": "markdown",
   "metadata": {},
   "source": [
    "### Correlation plots - data:\n",
    "\n",
    "<b>TASK C</b>\n",
    "\n",
    "Produce correlation plots now for data events as we did for the signal"
   ]
  },
  {
   "cell_type": "code",
   "execution_count": null,
   "metadata": {
    "scrolled": false
   },
   "outputs": [],
   "source": [
    "#MASK EVENTS WITH TWO LEPTONS PRODUCED BACK TO BACK EXCLUSEVILY\n",
    "msk_data = ( df_data[\"InvMass\"] >= 110. ) & ( df_data[\"Acopl\"] <= 0.003 ) & ( df_data[\"ExtraPfCands_v2\"] <= 3 )\n",
    "\n",
    "#in addiitonl we will focus only on MultiRP reconstruction\n",
    "proton_selection = \"MultiRP\" # \"SingleRP\" or \"MultiRP\"\n",
    "\n",
    "#compute xi\n",
    "ComputeXi(df_data)\n",
    "\n",
    "#plot correlations:\n",
    "Plot2DScatter(df_data, mask=msk_data, proton_selection=proton_selection)"
   ]
  },
  {
   "cell_type": "code",
   "execution_count": null,
   "metadata": {},
   "outputs": [],
   "source": [
    "# add new variables to dataframes for possitivle and negative xi's :\n",
    "data_mask_pos = msk_data & ( df_data[\"MultiRP\"] == 1 ) & ( df_data[\"Arm\"] == 0 )\n",
    "data_mask_neg = msk_data & ( df_data[\"MultiRP\"] == 1 ) & ( df_data[\"Arm\"] == 1 )\n",
    "\n",
    "df_data['delxi_pos'] = (1 - df_data[ \"Xi\" ] / df_data[ \"recXi_pos\" ])\n",
    "df_data['delxi_neg'] = (1 - df_data[ \"Xi\" ] / df_data[ \"recXi_neg\" ])"
   ]
  },
  {
   "cell_type": "code",
   "execution_count": null,
   "metadata": {},
   "outputs": [],
   "source": [
    "fig, axes = plt.subplots( 1, 2, figsize=(20,10) )\n",
    "PlotFromDF('delxi_pos',-5,3,100,[df_data[ data_mask_pos ]],['data'],axes[0], log=False)\n",
    "PlotFromDF('delxi_neg',-5,3,100,[df_data[ data_mask_neg ]],['data'],axes[1], log=False)"
   ]
  },
  {
   "cell_type": "markdown",
   "metadata": {},
   "source": [
    "### Compare data to signal + background\n",
    "\n",
    "Before starting this section read [SWGuideCMSDataAnalysisSchoolCERN2020TaggedProtonsLongExercise#Background_modeling](https://twiki.cern.ch/twiki/bin/view/CMS/SWGuideCMSDataAnalysisSchoolCERN2020TaggedProtonsLongExercise#Background_modeling)\n",
    "\n",
    "Our background estimation method relies on a data-driven approach. We take all data events with at least one tagged protons in this approach, and we mix the proton information between the data events. This will produce similar distribution as the combinatorial background (where one or two of the tagger protons originating from pileup interaction, therefore it is not correlated with the central detector event. \n",
    "\n",
    "We'll make a plot of the difference between the $\\xi$ reconstructed from PPS and the one reconstructed from the dilepton system.\n",
    "\n",
    "NOTE: at this stage, we will use skimmed samples. Skim cuts are defined in [select_events.py#L73](https://github.com/CMSDAS/pps-long-exercise/blob/master/select_events.py#L73)"
   ]
  },
  {
   "cell_type": "code",
   "execution_count": null,
   "metadata": {},
   "outputs": [],
   "source": [
    "#Load the data samples into the dataframes (takes some time)\n",
    "df_bkg={}\n",
    "eras=['B']\n",
    "#eras=['B','C','D','E','F'] #uncooment to process all data\n",
    "for x in eras:\n",
    "    df_bkg[x] = GetData(PATH+'/output-UL2017{}-{}-Rand20-skim.h5'.format(x,stream))\n",
    "    df_bkg[x]['era']=x\n",
    "    print('output-UL2017{}-{}-Rand20-skim shape = {}'.format(x,stream,df_bkg[x].shape))\n",
    "\n",
    "#combine all into a single one\n",
    "df_bkg=pd.concat([df_bkg[x] for x in eras])"
   ]
  },
  {
   "cell_type": "code",
   "execution_count": null,
   "metadata": {},
   "outputs": [],
   "source": [
    "# selection cuts (NOTE: the background is already skimmed)\n",
    "msk_data = ( df_data[\"InvMass\"] >= 110. ) & ( df_data[\"Acopl\"] <= 0.003 ) & ( df_data[\"ExtraPfCands_v2\"] <= 3 )\n",
    "msk_bkg = ( df_bkg[\"InvMass\"] >= 110. ) & ( df_bkg[\"Acopl\"] <= 0.003 ) & ( df_bkg[\"ExtraPfCands_v2\"] <= 3 )\n",
    "\n",
    "# Calculate xi(ll) for background\n",
    "ComputeXi(df_bkg)\n",
    "\n",
    "#Make plots\n",
    "fig, axes = plt.subplots( 1, 2, figsize=(20,10) )\n",
    "\n",
    "bins_ = 40\n",
    "range_ = (-5.,3.)\n",
    "resample_factor = 20\n",
    "\n",
    "\n",
    "counts={}\n",
    "errors={}\n",
    "for arm in [0,1]:\n",
    "\n",
    "    xi_dil='XiMuMuPlus' if arm==0 else 'XiMuMuMinus'\n",
    "    \n",
    "    #build the differences for the data\n",
    "    msk_data_arm = msk_data & ( df_data[\"MultiRP\"] == 1 ) & ( df_data[\"Arm\"] == arm )\n",
    "    delta = ( 1. - df_data[ \"Xi\" ][ msk_data_arm ] / df_data[ xi_dil ][ msk_data_arm ] )\n",
    "    counts[arm], bin_edges = np.histogram( delta, bins=bins_, range=range_ )\n",
    "    errors[arm] = np.sqrt( counts[arm] )\n",
    "    bin_centers = ( bin_edges[:-1] + bin_edges[1:] ) / 2.\n",
    "    axes[arm].errorbar(bin_centers, counts[arm], yerr=errors[arm], fmt='o', label='Data')\n",
    "        \n",
    "    print('Arm=',arm,'Data counts=',counts[arm], 'bin edges=',bin_edges )\n",
    "\n",
    "    #build the differences for the background\n",
    "    msk_bkg_arm = msk_bkg & ( df_bkg[\"MultiRP\"] == 1 ) & ( df_bkg[\"Arm\"] == arm )\n",
    "    weights = None\n",
    "    if resample_factor > 1:\n",
    "        weights = np.full_like( df_bkg[ \"Xi\" ][ msk_bkg_arm ], ( 1./resample_factor ) )\n",
    "    delta_bkg = ( 1. - df_bkg[ \"Xi\" ][ msk_bkg_arm ] / df_bkg[ xi_dil ][ msk_bkg_arm ] )\n",
    "    axes[arm].hist( delta_bkg, bins=bins_, range=range_, weights=weights, label='Background' )\n",
    "\n",
    "    \n",
    "#final tweak to have both y-axis at the same scale showing all data\n",
    "total_counts=np.concatenate( [counts[0],counts[1]] )\n",
    "total_errors=np.concatenate( [errors[0], errors[1]] )\n",
    "idx_ymax_ = np.argmax( total_counts )\n",
    "y_max = total_counts[idx_ymax_] + 2*total_errors[idx_ymax_]\n",
    "print ( \"y max. = {}\".format(y_max) )\n",
    "for arm in [0,1]:\n",
    "    axes[arm].set_ylim( top=y_max )\n",
    "    sgn='+' if arm==0 else '-'\n",
    "    axes[arm].set_xlabel(r'$[\\Delta\\xi/\\xi(\\ell\\ell)]_{%s}$'%(sgn))\n",
    "    axes[arm].set_ylabel('Events')\n",
    "    axes[arm].legend(loc='best')"
   ]
  },
  {
   "cell_type": "markdown",
   "metadata": {},
   "source": [
    "### Correlation plots on the background samples - optimization\n",
    "\n",
    "<b>TASK D</b>\n",
    "\n",
    "\n",
    "produce $\\Delta\\xi$ correlation plots from the background sample and optimize selection cut"
   ]
  },
  {
   "cell_type": "code",
   "execution_count": null,
   "metadata": {},
   "outputs": [],
   "source": [
    "bkg_mask_pos = msk_bkg & ( df_bkg[\"MultiRP\"] == 1 ) & ( df_bkg[\"Arm\"] == 0 )\n",
    "bkg_mask_neg = msk_bkg & ( df_bkg[\"MultiRP\"] == 1 ) & ( df_bkg[\"Arm\"] == 1 )\n",
    "\n",
    "df_bkg['delxi_pos'] = (1 - df_bkg[ \"Xi\" ] / df_bkg[ \"recXi_pos\" ])\n",
    "df_bkg['delxi_neg'] = (1 - df_bkg[ \"Xi\" ] / df_bkg[ \"recXi_neg\" ])"
   ]
  },
  {
   "cell_type": "code",
   "execution_count": null,
   "metadata": {
    "scrolled": false
   },
   "outputs": [],
   "source": [
    "fig, axes = plt.subplots( 1, 2, figsize=(20,10) )\n",
    "labels=['background','exclusive di-$\\ell$']\n",
    "PlotFromDF('delxi_pos',-5,3,100,[df_bkg, df_signal],labels,axes[0], log=False)\n",
    "PlotFromDF('delxi_neg',-5,3,100,[df_bkg, df_signal],labels,axes[1], log=False)"
   ]
  },
  {
   "cell_type": "markdown",
   "metadata": {},
   "source": [
    "Using the codes developed in [Event-selection-optimization.ipynb](https://nbviewer.jupyter.org/github/cmsdas/pps-long-exercise/blob/master/Event-selection-optimization.ipynb) adapting the following cut:\n",
    "\n",
    "$$ \\Delta\\xi < cut  $$ and  $$ \\Delta\\xi > -cut  $$"
   ]
  },
  {
   "cell_type": "code",
   "execution_count": null,
   "metadata": {
    "scrolled": true
   },
   "outputs": [],
   "source": [
    "# function that computes signal significance\n",
    "def computeZ(Ns, Nb):\n",
    "    return Ns/np.sqrt(Nb)\n",
    "\n",
    "# function that computes event yields\n",
    "def ComputeYields(s, b, cut):\n",
    "    Ns = s[((s['delxi_pos']<cut) & (s['delxi_pos']>-cut)) | ((s['delxi_neg']<cut) & (s['delxi_neg']>-cut))].groupby('EventNum').ngroups\n",
    "    Nb = b[((b['delxi_pos']<cut) & (b['delxi_pos']>-cut)) | ((b['delxi_neg']<cut) & (b['delxi_neg']>-cut))].groupby('EventNum').ngroups\n",
    "    return Ns, Nb\n"
   ]
  },
  {
   "cell_type": "code",
   "execution_count": null,
   "metadata": {},
   "outputs": [],
   "source": [
    "#Relative significance for a single cut value (example for Acopl<0.09):\n",
    "Nscut, Nbcut = ComputeYields(df_signal,df_bkg, 0.5)\n",
    "Nsnocut, Nbnocut = ComputeYields(df_signal,df_bkg, 999999999)\n",
    "sig_ratio = computeZ(Nscut, Nbcut) / computeZ(Nsnocut, Nbnocut)\n",
    "print('Relative significance = ',sig_ratio) \n",
    "print('Signal acceptance = ',Nscut/Nsnocut)"
   ]
  },
  {
   "cell_type": "code",
   "execution_count": null,
   "metadata": {},
   "outputs": [],
   "source": []
  }
 ],
 "metadata": {
  "kernelspec": {
   "display_name": "Python 3",
   "language": "python",
   "name": "python3"
  },
  "language_info": {
   "codemirror_mode": {
    "name": "ipython",
    "version": 3
   },
   "file_extension": ".py",
   "mimetype": "text/x-python",
   "name": "python",
   "nbconvert_exporter": "python",
   "pygments_lexer": "ipython3",
   "version": "3.6.12"
  }
 },
 "nbformat": 4,
 "nbformat_minor": 4
}
