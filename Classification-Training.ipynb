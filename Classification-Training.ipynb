{
 "cells": [
  {
   "cell_type": "markdown",
   "metadata": {},
   "source": [
    "# Training a multivariate discrimination\n",
    "\n",
    "Below we prepare a simple setup to train a multivariate discriminator to separate the signal from the background.\n",
    "It's meant just an appetizer for you to explore. After you go through it it may be a good occasion to put in practice what you learned in the short exercise about Machine Learning!"
   ]
  },
  {
   "cell_type": "code",
   "execution_count": null,
   "metadata": {},
   "outputs": [],
   "source": [
    "#!pip install --user mplhep #uncomment if loading of mplhep fails\n",
    "\n",
    "import numpy as np\n",
    "import pandas as pd\n",
    "import h5py\n",
    "import matplotlib.pyplot as plt\n",
    "import mplhep\n",
    "from matplotlib.colors import LogNorm"
   ]
  },
  {
   "cell_type": "code",
   "execution_count": null,
   "metadata": {},
   "outputs": [],
   "source": [
    "#global configurarables (check the Data-Inspection notebook for consistency)\n",
    "proton_selection = \"MultiRP\"\n",
    "PATH='/eos/user/c/cmsdas/short-exercises/pps-protons-tutorial/data'"
   ]
  },
  {
   "cell_type": "markdown",
   "metadata": {},
   "source": [
    "## Collect the data and simulation\n",
    "\n",
    "The following cell is used to load the training data to memory. Further pre-selection will be applied below.\n",
    "\n",
    "FIXME: It would be good to explain how the data/background was prepared."
   ]
  },
  {
   "cell_type": "code",
   "execution_count": null,
   "metadata": {
    "scrolled": true
   },
   "outputs": [],
   "source": [
    "def GetData(flist,chunk_size=None):\n",
    "    \n",
    "    \"\"\" \n",
    "    opens a summary file or list of summary files and convert them to a pandas dataframe \n",
    "    if given the chunk_size will be used to collect events in chunks of this size\n",
    "    \"\"\"\n",
    "    \n",
    "    flist=flist if isinstance(flist,list) else [flist]\n",
    "    \n",
    "    df,df_counts=[],[]\n",
    "    \n",
    "    for filename in flist:\n",
    "    \n",
    "        with h5py.File(filename, 'r') as f:\n",
    "\n",
    "            print('Collecting data from',filename)\n",
    "            \n",
    "            dset            = f['protons']\n",
    "            dset_columns    = f['columns']\n",
    "            dset_selections = f['selections']\n",
    "            dset_counts     = f['event_counts']\n",
    "            \n",
    "            #read the data\n",
    "            columns = list( dset_columns )\n",
    "            columns_str = [ item.decode(\"utf-8\") for item in columns ]\n",
    "            if chunk_size is None:\n",
    "                start=[0]\n",
    "                stop=[dset.shape[0]]\n",
    "            else:\n",
    "                entries = dset.shape[0]\n",
    "                start = list( range( 0, entries, chunk_size ) )\n",
    "                stop = start[1:] + [entries]\n",
    "                \n",
    "            for idx in range( len( start) ):\n",
    "                print('\\tCollecting events',start[idx], stop[idx] )\n",
    "\n",
    "                df.append( pd.DataFrame( dset[start[idx]:stop[idx]], \n",
    "                                         columns=columns_str ) )\n",
    "                df[-1]=df[-1][['Run', 'LumiSection', 'EventNum', 'CrossingAngle', \n",
    "                               'MultiRP', 'Arm', 'RPId1', 'RPId2', 'TrackX1', 'TrackY1', 'TrackX2', 'TrackY2',\n",
    "                               'Xi', 'T', 'ThX', 'ThY', 'Time',\n",
    "                               'Muon0Pt', 'Muon1Pt', 'InvMass', 'ExtraPfCands', 'Acopl', 'XiMuMuPlus', 'XiMuMuMinus'] ].astype( { \"Run\": \"int64\", \"LumiSection\": \"int64\", \"EventNum\": \"int64\", \"MultiRP\": \"int32\", \"Arm\": \"int32\", \"RPId1\": \"int32\", \"RPId2\": \"int32\", \"ExtraPfCands\": \"int32\" } )\n",
    "              \n",
    "            #read the selection counters\n",
    "            selections = list( dset_selections )\n",
    "            selections_str = [ item.decode(\"utf-8\") for item in selections ]        \n",
    "            df_counts.append( pd.Series( list( dset_counts ), index=selections_str ) )\n",
    "    \n",
    "    n=len( df ) \n",
    "    print('Returning the result of %d merged datasets'%n)\n",
    "    df_final=pd.concat(df)\n",
    "    \n",
    "    #merge the counts\n",
    "    df_counts_final = df_counts[0]\n",
    "    for idx in range( 1, len(df_counts) ):\n",
    "        df_counts_final = df_counts_final.add( df_counts[idx] )\n",
    "\n",
    "    #merge the data\n",
    "    \n",
    "    \n",
    "    return df_final,df_counts_final\n",
    "    \n",
    "print('[Signal simulation]')\n",
    "df_signal,df_counts_signal = GetData(PATH+'/output-MC2017-Elastic-Non3+3-PreSel.h5')\n",
    "print('Selection counts')\n",
    "print(df_counts_signal)\n",
    "\n",
    "\n",
    "print('\\n')\n",
    "print('[Data (to be used as background)]')\n",
    "#eras=['B','C1','D','F1'] #uncomment to use all data\n",
    "eras=['B']\n",
    "data_files = [PATH+'/output-UL2017{}-PreSel-Rnd-Res20.h5'.format(era) for era in eras]\n",
    "df_bkg,df_counts_bkg = GetData(data_files,chunk_size=1000000)\n",
    "print('Selection counts')\n",
    "print(df_counts_signal)"
   ]
  },
  {
   "cell_type": "markdown",
   "metadata": {},
   "source": [
    "## Prepare the data\n",
    "\n",
    "We apply the following selection to the signal and data\n",
    "\n",
    "* require $m_{ll}>110$ GeV\n",
    "* set the dilepton xi according to the arm where a proton was reconstructed \n",
    "* use the proton reconstruction algorithm as required at the start of the notebook"
   ]
  },
  {
   "cell_type": "code",
   "execution_count": null,
   "metadata": {},
   "outputs": [],
   "source": [
    "def PrepareData(df):\n",
    "    \n",
    "    \"\"\"applies baseline selection cuts\"\"\"\n",
    "\n",
    "    msk = ( df[\"InvMass\"] >= 110. )\n",
    "\n",
    "    msk1 = None\n",
    "    msk2 = None\n",
    "    if proton_selection == \"SingleRP\":\n",
    "        # Single-RP in pixel stations\n",
    "        msk1_arm = ( df[\"RPId1\"] == 23 )\n",
    "        msk2_arm = ( df[\"RPId1\"] == 123 )\n",
    "        multiRP=0\n",
    "    elif proton_selection == \"MultiRP\":\n",
    "        # Multi-RP\n",
    "        msk1_arm = ( df[\"Arm\"] == 0 )\n",
    "        msk2_arm = ( df[\"Arm\"] == 1 )\n",
    "        multiRP=1\n",
    "   \n",
    "    df[ \"XiMuMu\" ] = np.nan\n",
    "    df[ \"XiMuMu\" ].where( ~msk1_arm, df[ \"XiMuMuPlus\" ],  inplace=True )\n",
    "    df[ \"XiMuMu\" ].where( ~msk2_arm, df[ \"XiMuMuMinus\" ], inplace=True )\n",
    "    msk1 = msk & ( df[\"MultiRP\"] == multiRP) & msk1_arm\n",
    "    msk2 = msk & ( df[\"MultiRP\"] == multiRP) & msk2_arm\n",
    "   \n",
    "    return df[msk1 | msk2].copy()\n",
    "\n",
    "df_signal_prep = PrepareData(df_signal)\n",
    "df_bkg_prep    = PrepareData(df_bkg)"
   ]
  },
  {
   "cell_type": "code",
   "execution_count": null,
   "metadata": {},
   "outputs": [],
   "source": [
    "print('Signal prepared',df_signal_prep.shape)\n",
    "\n",
    "train_vars=['Xi', 'Muon0Pt', 'Muon1Pt', 'InvMass', 'ExtraPfCands', 'Acopl', 'XiMuMu']\n",
    "\n",
    "\n",
    "#draw the correlation matrix for the training variables\n",
    "print(train_vars)\n",
    "fig=plt.figure(figsize=(10, 10))\n",
    "plt.matshow(df_signal_prep[train_vars].corr(), fignum=fig.number)\n",
    "cb = plt.colorbar()\n",
    "plt.clim(-1,1)\n",
    "plt.title('Signal correlation Matrix', fontsize=16)\n",
    "plt.show()\n",
    "\n",
    "df_signal_prep[train_vars].head(10)"
   ]
  },
  {
   "cell_type": "code",
   "execution_count": null,
   "metadata": {},
   "outputs": [],
   "source": [
    "print('Background prepared',df_bkg_prep.shape)\n",
    "\n",
    "#draw the correlation matrix for these variables\n",
    "print(train_vars)\n",
    "fig=plt.figure(figsize=(10, 10))\n",
    "plt.matshow(df_bkg_prep[train_vars].corr(), fignum=fig.number)\n",
    "cb = plt.colorbar()\n",
    "plt.clim(-1,1)\n",
    "plt.title('Background correlation Matrix', fontsize=16)\n",
    "plt.show()\n",
    "\n",
    "df_bkg_prep[train_vars].head(10)"
   ]
  },
  {
   "cell_type": "markdown",
   "metadata": {},
   "source": [
    "## Model building\n",
    "\n",
    "Having the data prepared we now turn to building a simple model using the same training variables inspected above.\n",
    "`sklearn` is used to define the training and test sample and to instantiate a [DecisionTreeClassifier](https://scikit-learn.org/stable/modules/tree.html#tree).\n",
    "The [AdaBoostClassifier](https://scikit-learn.org/stable/modules/generated/sklearn.ensemble.AdaBoostClassifier.html) is used to improve the base training of the DecisionTreeClassifier."
   ]
  },
  {
   "cell_type": "code",
   "execution_count": null,
   "metadata": {},
   "outputs": [],
   "source": [
    "X_sig=df_signal_prep[train_vars].copy()\n",
    "X_bkg=df_bkg_prep[train_vars].copy()\n",
    "\n",
    "y_sig = np.ones( len(X_sig) )\n",
    "y_bkg = np.zeros( len(X_bkg) )\n",
    "\n",
    "X = pd.concat( [X_sig, X_bkg] ) \n",
    "y = np.concatenate( [y_sig, y_bkg] )"
   ]
  },
  {
   "cell_type": "code",
   "execution_count": null,
   "metadata": {},
   "outputs": [],
   "source": [
    "#divide into training an testing datasets\n",
    "\n",
    "from sklearn.model_selection import train_test_split\n",
    "X_train, X_test, y_train, y_test = train_test_split( X, y, test_size=0.2, shuffle=True, random_state=42 )"
   ]
  },
  {
   "cell_type": "code",
   "execution_count": null,
   "metadata": {},
   "outputs": [],
   "source": [
    "from sklearn.tree import DecisionTreeClassifier\n",
    "from sklearn.ensemble import AdaBoostClassifier\n",
    "\n",
    "#fit the parameters of the BDT\n",
    "ada_clf = AdaBoostClassifier( DecisionTreeClassifier( max_depth=4 ),\n",
    "                              n_estimators = 200,\n",
    "                              algorithm=\"SAMME.R\",\n",
    "                              learning_rate = 0.5)\n",
    "ada_clf.fit( X_train, y_train )\n",
    "clf = ada_clf\n",
    "print ( clf )"
   ]
  },
  {
   "cell_type": "markdown",
   "metadata": {},
   "source": [
    "## Inspection of the training result"
   ]
  },
  {
   "cell_type": "code",
   "execution_count": null,
   "metadata": {},
   "outputs": [],
   "source": [
    "#check the accuracy of the predictions\n",
    "from sklearn.metrics import accuracy_score\n",
    "y_test_pred = clf.predict( X_test )\n",
    "print('Accuracy on the test dataset is:',accuracy_score( y_test, y_test_pred ))\n",
    "\n",
    "y_sig_pred = clf.predict( X_sig )\n",
    "y_bkg_pred = clf.predict( X_bkg )\n",
    "print ('Accuracy on the full signal data is', accuracy_score( y_sig, y_sig_pred ) )\n",
    "print ('Accuracy on the full background data is', accuracy_score( y_bkg, y_bkg_pred ) )"
   ]
  },
  {
   "cell_type": "code",
   "execution_count": null,
   "metadata": {},
   "outputs": [],
   "source": [
    "def Plot2D(x,y,data_sig,data_bkg,msk_sig,msk_bkg,xran=[0.,0.15],yran=[0.,0.15]):\n",
    " \n",
    "    \"\"\"a simple routine to plot the signal and background components\"\"\"\n",
    "\n",
    "    fig= plt.figure( figsize=(10,10) )\n",
    "    plt.plot( data_bkg[x][ msk_bkg ], data_bkg[y][ msk_bkg ], 'ro', label='Background' )\n",
    "    plt.plot( data_sig[x][ msk_sig ], data_sig[y][ msk_sig ], 'bo', label='Signal' )\n",
    "    \n",
    "    if 'Xi' in x and 'Xi' in y:\n",
    "        plt.plot( xran,yran, 'k--', linewidth=1 )\n",
    "        plt.plot( xran, [j*0.90 for j in yran], 'k:', linewidth=1 )\n",
    "        plt.plot( xran, [j*1.10 for j in yran], 'k:', linewidth=1 )\n",
    "\n",
    "    plt.xlim(*xran)\n",
    "    plt.xlabel(x)\n",
    "    plt.ylim(*yran)\n",
    "    plt.ylabel(y)\n",
    "    plt.legend(loc='best')"
   ]
  },
  {
   "cell_type": "markdown",
   "metadata": {},
   "source": [
    "Test dataset: the events classified as signal correlate more strongly in the reconstucted $\\xi$ plane. You can compare the result to the one obtained in the Data-Inspection notebook."
   ]
  },
  {
   "cell_type": "code",
   "execution_count": null,
   "metadata": {},
   "outputs": [],
   "source": [
    "msk_bkg = ( y_test_pred == 0 )\n",
    "msk_sig = ( y_test_pred == 1 )\n",
    "Plot2D('Xi','XiMuMu',X_test,X_test,msk_sig,msk_bkg)"
   ]
  },
  {
   "cell_type": "markdown",
   "metadata": {},
   "source": [
    "Separate the correlation per arm and filtering out only the correct predictions in the signal and background datasets."
   ]
  },
  {
   "cell_type": "code",
   "execution_count": null,
   "metadata": {},
   "outputs": [],
   "source": [
    "msk_bkg_1 = None\n",
    "msk_bkg_2 = None\n",
    "msk_sig_1 = None\n",
    "msk_sig_2 = None\n",
    "if proton_selection == \"SingleRP\":\n",
    "    msk_bkg_1 = ( df_bkg_prep[ \"RPId1\" ] == 23 ) & ( y_bkg_pred == 0 )\n",
    "    msk_bkg_2 = ( df_bkg_prep[ \"RPId1\" ] == 123 ) & ( y_bkg_pred == 0 )\n",
    "    msk_sig_1 = ( df_signal_prep[ \"RPId1\" ] == 23 ) & ( y_sig_pred == 1 )\n",
    "    msk_sig_2 = ( df_signal_prep[ \"RPId1\" ] == 123 ) & ( y_sig_pred == 1 )\n",
    "elif proton_selection == \"MultiRP\":\n",
    "    msk_bkg_1 = ( df_bkg_prep[ \"Arm\" ] == 0 ) & ( y_bkg_pred == 0 )\n",
    "    msk_bkg_2 = ( df_bkg_prep[ \"Arm\" ] == 1 ) & ( y_bkg_pred == 0 )\n",
    "    msk_sig_1 = ( df_signal_prep[ \"Arm\" ] == 0 ) & ( y_sig_pred == 1 )\n",
    "    msk_sig_2 = ( df_signal_prep[ \"Arm\" ] == 1 ) & ( y_sig_pred == 1 )\n",
    "    \n",
    "Plot2D('Xi','XiMuMuPlus',df_signal_prep,df_bkg_prep,msk_sig_1,msk_bkg_1)\n",
    "Plot2D('Xi','XiMuMuMinus',df_signal_prep,df_bkg_prep,msk_sig_2,msk_bkg_2)"
   ]
  },
  {
   "cell_type": "markdown",
   "metadata": {},
   "source": [
    "Analogous to the previous set of plots but now we plot the background which was assigned as signal in the prediction."
   ]
  },
  {
   "cell_type": "code",
   "execution_count": null,
   "metadata": {},
   "outputs": [],
   "source": [
    "msk_bkgerr_1 = None\n",
    "msk_bkgerr_2 = None\n",
    "if proton_selection == \"SingleRP\":\n",
    "    msk_bkgerr_1 = ( df_bkg_prep[ \"RPId1\" ] == 23 ) & ( y_bkg_pred == 1 )\n",
    "    msk_bkgerr_2 = ( df_bkg_prep[ \"RPId1\" ] == 123 ) & ( y_bkg_pred == 1 )\n",
    "elif proton_selection == \"MultiRP\":\n",
    "    msk_bkgerr_1 = ( df_bkg_prep[ \"Arm\" ] == 0 ) & ( y_bkg_pred == 1 )\n",
    "    msk_bkgerr_2 = ( df_bkg_prep[ \"Arm\" ] == 1 ) & ( y_bkg_pred == 1 )\n",
    "Plot2D('Xi','XiMuMuPlus', df_bkg_prep,df_bkg_prep, msk_bkgerr_1, msk_bkg_1)\n",
    "Plot2D('Xi','XiMuMuMinus',df_bkg_prep,df_bkg_prep, msk_bkgerr_2, msk_bkg_2)"
   ]
  },
  {
   "cell_type": "markdown",
   "metadata": {},
   "source": [
    "Analogous distributions but now using events where the signal was misassigned as background"
   ]
  },
  {
   "cell_type": "code",
   "execution_count": null,
   "metadata": {},
   "outputs": [],
   "source": [
    "msk_sigerr_1 = None\n",
    "msk_sigerr_2 = None\n",
    "if proton_selection == \"SingleRP\":\n",
    "    msk_sigerr_1 = ( df_signal_prep[ \"RPId1\" ] == 23 ) & ( y_sig_pred == 0 )\n",
    "    msk_sigerr_2 = ( df_signal_prep[ \"RPId1\" ] == 123 ) & ( y_sig_pred == 0 )\n",
    "elif proton_selection == \"MultiRP\":\n",
    "    msk_sigerr_1 = ( df_signal_prep[ \"Arm\" ] == 0 ) & ( y_sig_pred == 0 )\n",
    "    msk_sigerr_2 = ( df_signal_prep[ \"Arm\" ] == 1 ) & ( y_sig_pred == 0 )\n",
    "\n",
    "Plot2D('Xi','XiMuMuPlus', df_signal_prep,df_signal_prep, msk_sigerr_1, msk_sig_1)\n",
    "Plot2D('Xi','XiMuMuMinus',df_signal_prep,df_signal_prep, msk_sigerr_2, msk_sig_2)"
   ]
  },
  {
   "cell_type": "markdown",
   "metadata": {},
   "source": [
    "Compare the training variable distributions for events classified as signal or background in the test sample."
   ]
  },
  {
   "cell_type": "code",
   "execution_count": null,
   "metadata": {},
   "outputs": [],
   "source": [
    "def showDist(x,data,mask_sig, mask_bkg,nbins):\n",
    "    \n",
    "    \"\"\"a simple function to compare signal-like and background-like\"\"\"\n",
    "    \n",
    "    fig = plt.figure( figsize=(6,6) )\n",
    "    _,bins=np.histogram(data[x],bins=nbins)\n",
    "    plt.hist( data[ x ][ mask_sig ], histtype='step', bins=bins, density=True, label='Signal' )\n",
    "    plt.hist( data[ x ][ mask_bkg ], histtype='step', bins=bins, density=True, label='Background' )\n",
    "    plt.xlabel(x)\n",
    "    plt.show()\n",
    "    \n",
    "for x in train_vars:\n",
    "    showDist(x,X_test,(y_test_pred==1),(y_test_pred==0),50)"
   ]
  },
  {
   "cell_type": "code",
   "execution_count": null,
   "metadata": {},
   "outputs": [],
   "source": [
    "pfs - i stopped here this will crash on purpose\n",
    "\n",
    "y_test_probs = clf.predict_proba( X_test )"
   ]
  },
  {
   "cell_type": "code",
   "execution_count": null,
   "metadata": {},
   "outputs": [],
   "source": [
    "fig = plt.figure( figsize=(10,10) )\n",
    "plt.hist( y_test_probs[:,0], color='orange', bins=30, range=(0.,1.) )\n",
    "plt.hist( y_test_probs[:,1], color='skyblue', bins=30, range=(0.,1.) )\n",
    "plt.hist( y_test_probs[:,0][ y_test == 0 ], color='red', bins=30, range=(0.,1.) )\n",
    "plt.hist( y_test_probs[:,1][ y_test == 1 ], color='blue', bins=30, range=(0.,1.) )"
   ]
  },
  {
   "cell_type": "markdown",
   "metadata": {},
   "source": [
    "## Data"
   ]
  },
  {
   "cell_type": "code",
   "execution_count": null,
   "metadata": {},
   "outputs": [],
   "source": [
    "df_data_list = []\n",
    "df_counts_data_list = []\n",
    "\n",
    "fileNames = [\n",
    "    'output/output-UL2017B-PreSel.h5',\n",
    "    'output/output-UL2017C1-PreSel.h5',\n",
    "    'output/output-UL2017D-PreSel.h5',\n",
    "    'output/output-UL2017F1-PreSel.h5'\n",
    "]\n",
    "\n",
    "for file_ in fileNames:\n",
    "    with h5py.File( file_, 'r' ) as f:\n",
    "        print ( f )\n",
    "        print ( list(f.keys()) )\n",
    "        dset = f['protons']\n",
    "        print ( dset.shape )\n",
    "        print ( dset[:,:] )\n",
    "        \n",
    "        dset_columns = f['columns']\n",
    "        print ( dset_columns.shape )\n",
    "        columns = list( dset_columns )\n",
    "        print ( columns )\n",
    "        columns_str = [ item.decode(\"utf-8\") for item in columns ]\n",
    "        print ( columns_str )\n",
    "\n",
    "        dset_selections = f['selections']\n",
    "        selections_ = [ item.decode(\"utf-8\") for item in dset_selections ]\n",
    "        print ( selections_ )  \n",
    "        \n",
    "        dset_counts = f['event_counts']\n",
    "        df_counts_data_list.append( pd.Series( dset_counts, index=selections_ ) )\n",
    "        print ( df_counts_data_list[-1] )\n",
    "        \n",
    "        chunk_size = 1000000\n",
    "        entries = dset.shape[0]\n",
    "        start_ = list( range( 0, entries, chunk_size ) )\n",
    "        stop_ = start_[1:]\n",
    "        stop_.append( entries )\n",
    "        print ( start_ )\n",
    "        print ( stop_ )\n",
    "        for idx in range( len( start_ ) ):\n",
    "            print ( start_[idx], stop_[idx] )\n",
    "            #print ( dset[ start_[idx] : stop_[idx] ] )\n",
    "            df_ = pd.DataFrame( dset[ start_[idx] : stop_[idx] ], columns=columns_str )\n",
    "            df_ = df_[ ['Run', 'LumiSection', 'EventNum', 'CrossingAngle', \n",
    "                        'MultiRP', 'Arm', 'RPId1', 'RPId2', 'TrackX1', 'TrackY1', 'TrackX2', 'TrackY2',\n",
    "                        'Xi', 'T', 'ThX', 'ThY', 'Time',\n",
    "                        'Muon0Pt', 'Muon1Pt', 'InvMass', 'ExtraPfCands', 'Acopl', 'XiMuMuPlus', 'XiMuMuMinus'] ].astype( { \"Run\": \"int64\", \"LumiSection\": \"int64\", \"EventNum\": \"int64\", \"MultiRP\": \"int32\", \"Arm\": \"int32\", \"RPId1\": \"int32\", \"RPId2\": \"int32\", \"ExtraPfCands\": \"int32\" } )\n",
    "            df_data_list.append( df_ )\n",
    "            print ( df_data_list[-1].head() )\n",
    "            print ( len( df_data_list[-1] ) )\n",
    "        "
   ]
  },
  {
   "cell_type": "code",
   "execution_count": null,
   "metadata": {},
   "outputs": [],
   "source": [
    "df_counts_data = df_counts_data_list[0];\n",
    "for idx in range( 1, len(df_counts_data_list) ):\n",
    "    df_counts_data = df_counts_data.add( df_counts_data_list[idx] )\n",
    "df_counts_data"
   ]
  },
  {
   "cell_type": "code",
   "execution_count": null,
   "metadata": {},
   "outputs": [],
   "source": [
    "df_data = pd.concat( df_data_list )"
   ]
  },
  {
   "cell_type": "code",
   "execution_count": null,
   "metadata": {},
   "outputs": [],
   "source": [
    "msk_data = ( df_data[\"InvMass\"] >= 110. )\n",
    "\n",
    "msk1_data = None\n",
    "msk2_data = None\n",
    "if proton_selection == \"SingleRP\":\n",
    "    # Single-RP in pixel stations\n",
    "    msk1_arm = ( df_data[\"RPId1\"] == 23 )\n",
    "    msk2_arm = ( df_data[\"RPId1\"] == 123 )\n",
    "    df_data[ \"XiMuMu\" ] = np.nan\n",
    "    df_data[ \"XiMuMu\" ].where( ~msk1_arm, df_data[ \"XiMuMuPlus\" ], inplace=True )\n",
    "    df_data[ \"XiMuMu\" ].where( ~msk2_arm, df_data[ \"XiMuMuMinus\" ], inplace=True )\n",
    "    msk1_data = msk_data & ( df_data[\"MultiRP\"] == 0) & msk1_arm\n",
    "    msk2_data = msk_data & ( df_data[\"MultiRP\"] == 0) & msk2_arm\n",
    "elif proton_selection == \"MultiRP\":\n",
    "    # Multi-RP\n",
    "    msk1_arm = ( df_data[\"Arm\"] == 0 )\n",
    "    msk2_arm = ( df_data[\"Arm\"] == 1 )\n",
    "    df_data[ \"XiMuMu\" ] = np.nan\n",
    "    df_data[ \"XiMuMu\" ].where( ~msk1_arm, df_data[ \"XiMuMuPlus\" ], inplace=True )\n",
    "    df_data[ \"XiMuMu\" ].where( ~msk2_arm, df_data[ \"XiMuMuMinus\" ], inplace=True )\n",
    "    msk1_data = msk_data & ( df_data[\"MultiRP\"] == 1 ) & msk1_arm\n",
    "    msk2_data = msk_data & ( df_data[\"MultiRP\"] == 1 ) & msk2_arm\n",
    "\n",
    "df_data = df_data[ msk1_data | msk2_data ]\n",
    "df_data[:20]"
   ]
  },
  {
   "cell_type": "code",
   "execution_count": null,
   "metadata": {},
   "outputs": [],
   "source": [
    "X_data = df_data[ ['Xi', 'Muon0Pt', 'Muon1Pt', 'InvMass', 'ExtraPfCands', 'Acopl', 'XiMuMu'] ]\n",
    "X_data[:20]"
   ]
  },
  {
   "cell_type": "code",
   "execution_count": null,
   "metadata": {},
   "outputs": [],
   "source": [
    "y_data = clf.predict( X_data )\n",
    "y_data"
   ]
  },
  {
   "cell_type": "code",
   "execution_count": null,
   "metadata": {},
   "outputs": [],
   "source": [
    "fig, axes = plt.subplots( 1, 2, figsize=(20,10) )\n",
    "\n",
    "msk_bkg_1 = None\n",
    "msk_bkg_2 = None\n",
    "msk_sig_1 = None\n",
    "msk_sig_2 = None\n",
    "if proton_selection == \"SingleRP\":\n",
    "    msk_bkg_1 = ( df_data[ \"RPId1\" ] == 23 ) & ( y_data == 0 )\n",
    "    msk_bkg_2 = ( df_data[ \"RPId1\" ] == 123 ) & ( y_data == 0 )\n",
    "    msk_sig_1 = ( df_data[ \"RPId1\" ] == 23 ) & ( y_data == 1 )\n",
    "    msk_sig_2 = ( df_data[ \"RPId1\" ] == 123 ) & ( y_data == 1 )\n",
    "elif proton_selection == \"MultiRP\":\n",
    "    msk_bkg_1 = ( df_data[ \"Arm\" ] == 0 ) & ( y_data == 0 )\n",
    "    msk_bkg_2 = ( df_data[ \"Arm\" ] == 1 ) & ( y_data == 0 )\n",
    "    msk_sig_1 = ( df_data[ \"Arm\" ] == 0 ) & ( y_data == 1 )\n",
    "    msk_sig_2 = ( df_data[ \"Arm\" ] == 1 ) & ( y_data == 1 )\n",
    "\n",
    "axes[0].plot( df_data[ \"Xi\" ][ msk_bkg_1 ], df_data[ \"XiMuMuPlus\" ][ msk_bkg_1 ], 'ro' )\n",
    "axes[0].plot( df_data[ \"Xi\" ][ msk_sig_1 ], df_data[ \"XiMuMuPlus\" ][ msk_sig_1 ], 'bo' )\n",
    "axes[0].plot( (0.,0.15), (0.,0.15), 'k--', linewidth=1 )\n",
    "axes[0].plot( (0.,0.15), (0.,0.90*0.15), 'k:', linewidth=1 )\n",
    "axes[0].plot( (0.,0.15), (0.,1.10*0.15), 'k:', linewidth=1 )\n",
    "axes[0].set_xlim(0.,0.15)\n",
    "axes[0].set_ylim(0.,0.15)\n",
    "axes[1].plot( df_data[ \"Xi\" ][ msk_bkg_2 ], df_data[ \"XiMuMuMinus\" ][ msk_bkg_2 ], 'ro' )\n",
    "axes[1].plot( df_data[ \"Xi\" ][ msk_sig_2 ], df_data[ \"XiMuMuMinus\" ][ msk_sig_2 ], 'bo' )\n",
    "axes[1].plot( (0.,0.15), (0.,0.15), 'k--', linewidth=1 )\n",
    "axes[1].plot( (0.,0.15), (0.,0.90*0.15), 'k:', linewidth=1 )\n",
    "axes[1].plot( (0.,0.15), (0.,1.10*0.15), 'k:', linewidth=1 )\n",
    "axes[1].set_xlim(0.,0.15)\n",
    "axes[1].set_ylim(0.,0.15)"
   ]
  },
  {
   "cell_type": "code",
   "execution_count": null,
   "metadata": {},
   "outputs": [],
   "source": [
    "fig = plt.figure( figsize=(10,10) )\n",
    "plt.hist( df_data[ \"Acopl\" ][ y_data == 1 ], histtype='step', color='skyblue', bins=50, range=(0.,0.02), density=True )\n",
    "plt.hist( df_data[ \"Acopl\" ][ y_data == 0 ], histtype='step', color='orange', bins=50, range=(0.,0.02), density=True )"
   ]
  },
  {
   "cell_type": "code",
   "execution_count": null,
   "metadata": {},
   "outputs": [],
   "source": [
    "fig = plt.figure( figsize=(10,10) )\n",
    "plt.hist( df_data[ \"ExtraPfCands\" ][ y_data == 1 ], histtype='step', color='skyblue', bins=50, range=(0,50), density=True )\n",
    "plt.hist( df_data[ \"ExtraPfCands\" ][ y_data == 0 ], histtype='step', color='orange', bins=50, range=(0,50), density=True )"
   ]
  },
  {
   "cell_type": "code",
   "execution_count": null,
   "metadata": {},
   "outputs": [],
   "source": [
    "fig, axes = plt.subplots( 1, 2, figsize=(20,10) )\n",
    "\n",
    "#var_ = \"Xi\"\n",
    "#bins_ = 10\n",
    "#range_ = (0.,0.2)\n",
    "\n",
    "#var_ = \"ThX\"\n",
    "#bins_ = 10\n",
    "#range_ = (-0.0005,0.0005)\n",
    "\n",
    "#var_ = \"ThY\"\n",
    "#bins_ = 10\n",
    "#range_ = (-0.0005,0.0005)\n",
    "\n",
    "#var_ = \"T\"\n",
    "#bins_ = 10\n",
    "#range_ = (-4.,0.)\n",
    "\n",
    "#var_ = \"Time\"\n",
    "#bins_ = 20\n",
    "#range_ = (-0.5,0.5)\n",
    "\n",
    "#var_ = \"Muon0Pt\"\n",
    "#bins_ = 10\n",
    "#range_ = (50.,200.)\n",
    "\n",
    "#var_ = \"InvMass\"\n",
    "#bins_ = 10\n",
    "#range_ = (110.,500.)\n",
    "\n",
    "#var_ = \"Acopl\"\n",
    "#bins_ = 10\n",
    "#range_ = (0.,0.01)\n",
    "\n",
    "#var_ = \"ExtraPfCands\"\n",
    "#bins_ = 20\n",
    "#range_ = (0,20)\n",
    "\n",
    "msk_data_1 = None\n",
    "msk_data_2 = None\n",
    "if proton_selection == \"SingleRP\":\n",
    "    msk_data_1 = ( df_data[ \"RPId1\" ] == 23 ) & ( y_data == 1 )\n",
    "    msk_data_2 = ( df_data[ \"RPId1\" ] == 123 ) & ( y_data == 1 )\n",
    "elif proton_selection == \"MultiRP\":\n",
    "    msk_data_1 = ( df_data[ \"Arm\" ] == 0 ) & ( y_data == 1 )\n",
    "    msk_data_2 = ( df_data[ \"Arm\" ] == 1 ) & ( y_data == 1 )\n",
    "\n",
    "counts_1, bin_edges_1 = np.histogram( df_data[ var_ ][ msk_data_1 ], bins=bins_, range=range_ )\n",
    "errors_1 = np.sqrt( counts_1 )\n",
    "bin_centres_1 = ( bin_edges_1[:-1] + bin_edges_1[1:] ) / 2.\n",
    "axes[0].errorbar(bin_centres_1, counts_1, yerr=errors_1, fmt='o')\n",
    "\n",
    "counts_2, bin_edges_2 = np.histogram( df_data[ var_ ][ msk_data_2 ], bins=bins_, range=range_ )\n",
    "errors_2 = np.sqrt( counts_2 )\n",
    "bin_centres_2 = ( bin_edges_2[:-1] + bin_edges_2[1:] ) / 2.\n",
    "axes[1].errorbar(bin_centres_2, counts_2, yerr=errors_2, fmt='o')\n",
    "\n",
    "idx_ymax_ = np.argmax( np.concatenate( [counts_1, counts_2] ) )\n",
    "y_max = np.concatenate( [counts_1, counts_2] )[idx_ymax_] + 2*np.concatenate( [errors_1, errors_2] )[idx_ymax_]\n",
    "print ( \"y max. = {}\".format(y_max) )\n",
    "\n",
    "msk_bkg_pred_1 = None\n",
    "msk_bkg_pred_2 = None\n",
    "if proton_selection == \"SingleRP\":\n",
    "    msk_bkg_pred_1 = ( df_bkg[ \"RPId1\" ] == 23 ) & ( y_bkg_pred == 1 )\n",
    "    msk_bkg_pred_2 = ( df_bkg[ \"RPId1\" ] == 123 ) & ( y_bkg_pred == 1 )\n",
    "elif proton_selection == \"MultiRP\":\n",
    "    msk_bkg_pred_1 = ( df_bkg[ \"Arm\" ] == 0 ) & ( y_bkg_pred == 1 )\n",
    "    msk_bkg_pred_2 = ( df_bkg[ \"Arm\" ] == 1 ) & ( y_bkg_pred == 1 )\n",
    "\n",
    "weights_1 = None\n",
    "if resample_factor > 1:\n",
    "    weights_1 = np.full_like( df_bkg[ \"Xi\" ][ msk_bkg_pred_1 ], ( 1./resample_factor ) )\n",
    "\n",
    "weights_2 = None\n",
    "if resample_factor > 1:\n",
    "    weights_2 = np.full_like( df_bkg[ \"Xi\" ][ msk_bkg_pred_2 ], ( 1./resample_factor ) )\n",
    "\n",
    "axes[0].hist( df_bkg[ var_ ][ msk_bkg_pred_1 ], bins=bins_, range=range_, weights=weights_1 )\n",
    "axes[1].hist( df_bkg[ var_ ][ msk_bkg_pred_2 ], bins=bins_, range=range_, weights=weights_2 )\n",
    "    \n",
    "axes[0].set_ylim( top=y_max )\n",
    "axes[1].set_ylim( top=y_max )"
   ]
  },
  {
   "cell_type": "code",
   "execution_count": null,
   "metadata": {},
   "outputs": [],
   "source": [
    "fig, axes = plt.subplots( 1, 2, figsize=(20,10) )\n",
    "\n",
    "bins_ = 20\n",
    "range_ = (-1.,1.)\n",
    "\n",
    "vals_data = ( 1. - df_data[ \"Xi\" ] / df_data[ \"XiMuMu\" ] )\n",
    "\n",
    "counts_1, bin_edges_1 = np.histogram( vals_data[ msk_data_1 ], bins=bins_, range=range_ )\n",
    "errors_1 = np.sqrt( counts_1 )\n",
    "bin_centres_1 = ( bin_edges_1[:-1] + bin_edges_1[1:] ) / 2.\n",
    "axes[0].errorbar(bin_centres_1, counts_1, yerr=errors_1, fmt='o')\n",
    "\n",
    "counts_2, bin_edges_2 = np.histogram( vals_data[ msk_data_2 ], bins=bins_, range=range_ )\n",
    "errors_2 = np.sqrt( counts_2 )\n",
    "bin_centres_2 = ( bin_edges_2[:-1] + bin_edges_2[1:] ) / 2.\n",
    "axes[1].errorbar(bin_centres_2, counts_2, yerr=errors_2, fmt='o')\n",
    "\n",
    "idx_ymax_ = np.argmax( np.concatenate( [counts_1, counts_2] ) )\n",
    "y_max = np.concatenate( [counts_1, counts_2] )[idx_ymax_] + 2*np.concatenate( [errors_1, errors_2] )[idx_ymax_]\n",
    "print ( \"y max. = {}\".format(y_max) )\n",
    "\n",
    "vals_bkg = ( 1. - df_bkg[ \"Xi\" ] / df_bkg[ \"XiMuMu\" ] )\n",
    "\n",
    "axes[0].hist( vals_bkg[ msk_bkg_pred_1 ], bins=bins_, range=range_, weights=weights_1 )\n",
    "axes[1].hist( vals_bkg[ msk_bkg_pred_2 ], bins=bins_, range=range_, weights=weights_2 )\n",
    "    \n",
    "axes[0].set_ylim( top=y_max )\n",
    "axes[1].set_ylim( top=y_max )"
   ]
  },
  {
   "cell_type": "code",
   "execution_count": null,
   "metadata": {},
   "outputs": [],
   "source": []
  }
 ],
 "metadata": {
  "kernelspec": {
   "display_name": "Python 3",
   "language": "python",
   "name": "python3"
  },
  "language_info": {
   "codemirror_mode": {
    "name": "ipython",
    "version": 3
   },
   "file_extension": ".py",
   "mimetype": "text/x-python",
   "name": "python",
   "nbconvert_exporter": "python",
   "pygments_lexer": "ipython3",
   "version": "3.7.6"
  }
 },
 "nbformat": 4,
 "nbformat_minor": 4
}
